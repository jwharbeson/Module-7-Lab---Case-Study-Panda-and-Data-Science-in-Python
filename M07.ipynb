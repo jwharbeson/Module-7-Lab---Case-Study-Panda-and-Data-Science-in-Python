import pandas as pd

file_path = 'telco_churn.csv'
telco_df = pd.read_csv(file_path)

telco_df.head()

data_summary = telco_df.describe()
data_info = telco_df.info()

cleaned_df = telco_df.dropna()

cleaned_df.info()

numerical_summary = cleaned_df.describe()

churn_count = cleaned_df['Churn'].value_counts()

intl_plan_count = cleaned_df['International plan'].value_counts()
vmail_plan_count = cleaned_df['Voice mail plan'].value_counts()

print("Numerical Summary:\n", numerical_summary)
print("\nChurn Count:\n", churn_count)
print("\nInternational Plan Count:\n", intl_plan_count)
print("\nVoice Mail Plan Count:\n", vmail_plan_count)
